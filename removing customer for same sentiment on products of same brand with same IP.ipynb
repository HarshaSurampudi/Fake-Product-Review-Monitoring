{
 "cells": [
  {
   "cell_type": "code",
   "execution_count": 1,
   "metadata": {},
   "outputs": [],
   "source": [
    "import pandas as pd\n",
    "import random\n",
    "\n",
    "import re\n",
    "import pickle"
   ]
  },
  {
   "cell_type": "code",
   "execution_count": 25,
   "metadata": {},
   "outputs": [],
   "source": [
    "### WORKING ON TWITTER DATA FOR SENTIMENTAL ANALYSIS\n",
    "\n",
    "with open(\"Pickle Files/classifier.pickle\",\"rb\") as f:\n",
    "    clf = pickle.load(f)\n",
    "\n",
    "with open(\"Pickle Files/TfidfModel.pickle\",\"rb\") as f:\n",
    "    tfidf = pickle.load(f)\n",
    "\n",
    "def getSentiment(text):\n",
    "\n",
    "    # PREPROCESSING THE DATASET\n",
    "\n",
    "    text = re.sub(r\"^https://t.co/[A-Za-z0-9]*\\s\",\" \",text)\n",
    "    text = re.sub(r\"\\s+https://t.co/[A-Za-z0-9]*\\s\",\" \",text)\n",
    "    text = re.sub(r\"\\s+https://t.co/[A-Za-z0-9]*$\",\" \",text)\n",
    "    text = text.lower()\n",
    "    text = re.sub(r\"that's\",\"that is\",text)\n",
    "    text = re.sub(r\"there's\",\"there is\",text)\n",
    "    text = re.sub(r\"what's\",\"what is\",text)\n",
    "    text = re.sub(r\"where's\",\"where is\",text)\n",
    "    text = re.sub(r\"it's\",\"it is\",text)\n",
    "    text = re.sub(r\"who's\",\"who is\",text)\n",
    "    text = re.sub(r\"i'm\",\"i am\",text)\n",
    "    text = re.sub(r\"she's\",\"she is\",text)\n",
    "    text = re.sub(r\"he's\",\"he is\",text)\n",
    "    text = re.sub(r\"they're\",\"they are\",text)\n",
    "    text = re.sub(r\"who're\",\"who are\",text)\n",
    "    text = re.sub(r\"ain't\",\"am not\",text)\n",
    "    text = re.sub(r\"wouldn't\",\"would not\",text)\n",
    "    text = re.sub(r\"shouldn't\",\"should not\",text)\n",
    "    text = re.sub(r\"can't\",\"can not\",text)\n",
    "    text = re.sub(r\"couldn't\",\"could not\",text)\n",
    "    text = re.sub(r\"won't\",\"will not\",text)\n",
    "    \n",
    "    text = re.sub(r\"\\W\",\" \",text)\n",
    "    text = re.sub(r\"\\d\",\" \",text)\n",
    "    text = re.sub(r\"\\s+[a-z]\\s+\",\" \",text)\n",
    "    text = re.sub(r\"^[a-z]\\s+\",\" \",text)    \n",
    "    text = re.sub(r\"\\s+[a-z]$\",\" \",text)    \n",
    "    text = re.sub(r\"\\s+\",\" \",text)    \n",
    "    \n",
    "    sent = clf.predict(tfidf.transform([text]).toarray())\n",
    "    \n",
    "    return sent[0]\n",
    "            "
   ]
  },
  {
   "cell_type": "code",
   "execution_count": 56,
   "metadata": {},
   "outputs": [],
   "source": [
    "dataset = pd.read_csv(\"sentiment-for-a-company-product-by-same-IP.csv\")"
   ]
  },
  {
   "cell_type": "code",
   "execution_count": 57,
   "metadata": {},
   "outputs": [
    {
     "data": {
      "text/plain": [
       "array(['193.93.167.87', '205.10.168.66'], dtype=object)"
      ]
     },
     "execution_count": 57,
     "metadata": {},
     "output_type": "execute_result"
    }
   ],
   "source": [
    "# For Testing Purpose\n",
    "ip = dataset.groupby(\"IP Address\")\n",
    "ip_list = dataset[\"IP Address\"].unique()\n",
    "ip_list"
   ]
  },
  {
   "cell_type": "code",
   "execution_count": 58,
   "metadata": {},
   "outputs": [],
   "source": [
    "# users which are posting either all positive or negative reviews on different products of same brand\n",
    "\n",
    "blocked_users = []\n",
    "size = len(ip_list.tolist())\n",
    "index = 0\n",
    "for i in range(size):\n",
    "    brand_df = ip.get_group(ip_list[i])\n",
    "    \n",
    "    brands = brand_df.groupby(\"product_parent\")\n",
    "    brands_list = brand_df[\"product_parent\"].unique()\n",
    "    \n",
    "    no_of_brands = len(brands_list.tolist())\n",
    "    for j in range(no_of_brands):\n",
    "        \n",
    "        product_df = brands.get_group(brands_list[j])\n",
    "        no_of_products = len(product_df[\"product_id\"])\n",
    "        \n",
    "        sentiment = getSentiment(product_df[\"review_body\"][index])\n",
    "                \n",
    "        isSameSentiment = True\n",
    "        if no_of_products<=2:\n",
    "            break\n",
    "        for k in range(no_of_products):\n",
    "            text = str(product_df[\"review_body\"][index+k])\n",
    "            if getSentiment(text)!=sentiment :\n",
    "                isSameSentiment = False\n",
    "                break;\n",
    "        if(isSameSentiment):\n",
    "            blocked_users.append(ip_list[i])\n",
    "            break\n",
    "    if(isSameSentiment):\n",
    "        break;\n",
    "    index +=k"
   ]
  },
  {
   "cell_type": "code",
   "execution_count": 60,
   "metadata": {},
   "outputs": [
    {
     "data": {
      "text/plain": [
       "['193.93.167.87']"
      ]
     },
     "execution_count": 60,
     "metadata": {},
     "output_type": "execute_result"
    }
   ],
   "source": [
    "blocked_users"
   ]
  },
  {
   "cell_type": "code",
   "execution_count": 61,
   "metadata": {},
   "outputs": [],
   "source": [
    "dataset.set_index(\"IP Address\",inplace=True)"
   ]
  },
  {
   "cell_type": "code",
   "execution_count": 62,
   "metadata": {},
   "outputs": [],
   "source": [
    "for ip in blocked_users:\n",
    "    dataset.drop(ip,inplace=True)"
   ]
  },
  {
   "cell_type": "code",
   "execution_count": 63,
   "metadata": {
    "collapsed": true
   },
   "outputs": [
    {
     "data": {
      "text/html": [
       "<div>\n",
       "<style scoped>\n",
       "    .dataframe tbody tr th:only-of-type {\n",
       "        vertical-align: middle;\n",
       "    }\n",
       "\n",
       "    .dataframe tbody tr th {\n",
       "        vertical-align: top;\n",
       "    }\n",
       "\n",
       "    .dataframe thead th {\n",
       "        text-align: right;\n",
       "    }\n",
       "</style>\n",
       "<table border=\"1\" class=\"dataframe\">\n",
       "  <thead>\n",
       "    <tr style=\"text-align: right;\">\n",
       "      <th></th>\n",
       "      <th>IP Address</th>\n",
       "      <th>marketplace</th>\n",
       "      <th>customer_id</th>\n",
       "      <th>review_id</th>\n",
       "      <th>product_id</th>\n",
       "      <th>product_parent</th>\n",
       "      <th>product_title</th>\n",
       "      <th>product_category</th>\n",
       "      <th>star_rating</th>\n",
       "      <th>helpful_votes</th>\n",
       "      <th>total_votes</th>\n",
       "      <th>vine</th>\n",
       "      <th>verified_purchase</th>\n",
       "      <th>review_headline</th>\n",
       "      <th>review_body</th>\n",
       "      <th>review_date</th>\n",
       "    </tr>\n",
       "  </thead>\n",
       "  <tbody>\n",
       "    <tr>\n",
       "      <th>0</th>\n",
       "      <td>205.10.168.66</td>\n",
       "      <td>US</td>\n",
       "      <td>44855305</td>\n",
       "      <td>R26I2RI1GFV8QG</td>\n",
       "      <td>B0067XVNTG</td>\n",
       "      <td>563475445</td>\n",
       "      <td>Generic Car Dashboard Video Camera Vehicle Vid...</td>\n",
       "      <td>Mobile_Electronics</td>\n",
       "      <td>2</td>\n",
       "      <td>0</td>\n",
       "      <td>0</td>\n",
       "      <td>N</td>\n",
       "      <td>Y</td>\n",
       "      <td>Cameras has battery issues</td>\n",
       "      <td>Be careful with these products, I have bought ...</td>\n",
       "      <td>2015-08-31</td>\n",
       "    </tr>\n",
       "    <tr>\n",
       "      <th>1</th>\n",
       "      <td>205.10.168.66</td>\n",
       "      <td>US</td>\n",
       "      <td>7846966</td>\n",
       "      <td>RY8DDL22YG4R5</td>\n",
       "      <td>B00KA6CCVY</td>\n",
       "      <td>563475445</td>\n",
       "      <td>Aweek® Air Acoustic Earpiece Headset for Baofe...</td>\n",
       "      <td>Mobile_Electronics</td>\n",
       "      <td>3</td>\n",
       "      <td>0</td>\n",
       "      <td>1</td>\n",
       "      <td>N</td>\n",
       "      <td>Y</td>\n",
       "      <td>It appears to be good, but I'm still waiting f...</td>\n",
       "      <td>It appears to be good, but I'm still waiting f...</td>\n",
       "      <td>2015-08-31</td>\n",
       "    </tr>\n",
       "    <tr>\n",
       "      <th>2</th>\n",
       "      <td>205.10.168.66</td>\n",
       "      <td>US</td>\n",
       "      <td>21299354</td>\n",
       "      <td>R2AT2426ZHFUHH</td>\n",
       "      <td>B00MJCDPM2</td>\n",
       "      <td>563475445</td>\n",
       "      <td>Sentey LS-4460 B-Trek S8 Bluetooth Portable St...</td>\n",
       "      <td>Mobile_Electronics</td>\n",
       "      <td>3</td>\n",
       "      <td>0</td>\n",
       "      <td>1</td>\n",
       "      <td>N</td>\n",
       "      <td>Y</td>\n",
       "      <td>Didn't love the first one</td>\n",
       "      <td>First one arrived as a brick.  Wouldn't work, ...</td>\n",
       "      <td>2015-08-31</td>\n",
       "    </tr>\n",
       "    <tr>\n",
       "      <th>3</th>\n",
       "      <td>205.10.168.66</td>\n",
       "      <td>US</td>\n",
       "      <td>20422322</td>\n",
       "      <td>R8MEA6IGAHO0B</td>\n",
       "      <td>B00MC4CED8</td>\n",
       "      <td>563475445</td>\n",
       "      <td>BlackVue DR600GW-PMP</td>\n",
       "      <td>Mobile_Electronics</td>\n",
       "      <td>5</td>\n",
       "      <td>0</td>\n",
       "      <td>0</td>\n",
       "      <td>N</td>\n",
       "      <td>Y</td>\n",
       "      <td>Very Happy!</td>\n",
       "      <td>As advertised. Everything works perfectly, I'm...</td>\n",
       "      <td>2015-08-31</td>\n",
       "    </tr>\n",
       "  </tbody>\n",
       "</table>\n",
       "</div>"
      ],
      "text/plain": [
       "      IP Address marketplace  customer_id       review_id  product_id  \\\n",
       "0  205.10.168.66          US     44855305  R26I2RI1GFV8QG  B0067XVNTG   \n",
       "1  205.10.168.66          US      7846966   RY8DDL22YG4R5  B00KA6CCVY   \n",
       "2  205.10.168.66          US     21299354  R2AT2426ZHFUHH  B00MJCDPM2   \n",
       "3  205.10.168.66          US     20422322   R8MEA6IGAHO0B  B00MC4CED8   \n",
       "\n",
       "   product_parent                                      product_title  \\\n",
       "0       563475445  Generic Car Dashboard Video Camera Vehicle Vid...   \n",
       "1       563475445  Aweek® Air Acoustic Earpiece Headset for Baofe...   \n",
       "2       563475445  Sentey LS-4460 B-Trek S8 Bluetooth Portable St...   \n",
       "3       563475445                               BlackVue DR600GW-PMP   \n",
       "\n",
       "     product_category  star_rating  helpful_votes  total_votes vine  \\\n",
       "0  Mobile_Electronics            2              0            0    N   \n",
       "1  Mobile_Electronics            3              0            1    N   \n",
       "2  Mobile_Electronics            3              0            1    N   \n",
       "3  Mobile_Electronics            5              0            0    N   \n",
       "\n",
       "  verified_purchase                                    review_headline  \\\n",
       "0                 Y                         Cameras has battery issues   \n",
       "1                 Y  It appears to be good, but I'm still waiting f...   \n",
       "2                 Y                          Didn't love the first one   \n",
       "3                 Y                                        Very Happy!   \n",
       "\n",
       "                                         review_body review_date  \n",
       "0  Be careful with these products, I have bought ...  2015-08-31  \n",
       "1  It appears to be good, but I'm still waiting f...  2015-08-31  \n",
       "2  First one arrived as a brick.  Wouldn't work, ...  2015-08-31  \n",
       "3  As advertised. Everything works perfectly, I'm...  2015-08-31  "
      ]
     },
     "execution_count": 63,
     "metadata": {},
     "output_type": "execute_result"
    }
   ],
   "source": [
    "dataset.reset_index()"
   ]
  },
  {
   "cell_type": "code",
   "execution_count": null,
   "metadata": {},
   "outputs": [],
   "source": [
    "#dataset.to_csv(\"review3.csv\")"
   ]
  }
 ],
 "metadata": {
  "kernelspec": {
   "display_name": "Python 3",
   "language": "python",
   "name": "python3"
  },
  "language_info": {
   "codemirror_mode": {
    "name": "ipython",
    "version": 3
   },
   "file_extension": ".py",
   "mimetype": "text/x-python",
   "name": "python",
   "nbconvert_exporter": "python",
   "pygments_lexer": "ipython3",
   "version": "3.6.5"
  }
 },
 "nbformat": 4,
 "nbformat_minor": 2
}
