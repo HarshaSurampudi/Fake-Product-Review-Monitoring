{
 "cells": [
  {
   "cell_type": "code",
   "execution_count": 5,
   "metadata": {},
   "outputs": [],
   "source": [
    "import pandas as pd\n",
    "import random\n",
    "\n",
    "import re\n",
    "import pickle"
   ]
  },
  {
   "cell_type": "code",
   "execution_count": 20,
   "metadata": {},
   "outputs": [],
   "source": [
    "### WORKING ON TWITTER DATA FOR SENTIMENTAL ANALYSIS\n",
    "\n",
    "with open(\"Pickle Files/classifier.pickle\",\"rb\") as f:\n",
    "    clf = pickle.load(f)\n",
    "\n",
    "with open(\"Pickle Files/TfidfModel.pickle\",\"rb\") as f:\n",
    "    tfidf = pickle.load(f)\n",
    "\n",
    "def getSentiment(text):\n",
    "\n",
    "    # PREPROCESSING THE DATASET\n",
    "\n",
    "    text = re.sub(r\"^https://t.co/[A-Za-z0-9]*\\s\",\" \",text)\n",
    "    text = re.sub(r\"\\s+https://t.co/[A-Za-z0-9]*\\s\",\" \",text)\n",
    "    text = re.sub(r\"\\s+https://t.co/[A-Za-z0-9]*$\",\" \",text)\n",
    "    text = text.lower()\n",
    "    text = re.sub(r\"that's\",\"that is\",text)\n",
    "    text = re.sub(r\"there's\",\"there is\",text)\n",
    "    text = re.sub(r\"what's\",\"what is\",text)\n",
    "    text = re.sub(r\"where's\",\"where is\",text)\n",
    "    text = re.sub(r\"it's\",\"it is\",text)\n",
    "    text = re.sub(r\"who's\",\"who is\",text)\n",
    "    text = re.sub(r\"i'm\",\"i am\",text)\n",
    "    text = re.sub(r\"she's\",\"she is\",text)\n",
    "    text = re.sub(r\"he's\",\"he is\",text)\n",
    "    text = re.sub(r\"they're\",\"they are\",text)\n",
    "    text = re.sub(r\"who're\",\"who are\",text)\n",
    "    text = re.sub(r\"ain't\",\"am not\",text)\n",
    "    text = re.sub(r\"wouldn't\",\"would not\",text)\n",
    "    text = re.sub(r\"shouldn't\",\"should not\",text)\n",
    "    text = re.sub(r\"can't\",\"can not\",text)\n",
    "    text = re.sub(r\"couldn't\",\"could not\",text)\n",
    "    text = re.sub(r\"won't\",\"will not\",text)\n",
    "    \n",
    "    text = re.sub(r\"\\W\",\" \",text)\n",
    "    text = re.sub(r\"\\d\",\" \",text)\n",
    "    text = re.sub(r\"\\s+[a-z]\\s+\",\" \",text)\n",
    "    text = re.sub(r\"^[a-z]\\s+\",\" \",text)    \n",
    "    text = re.sub(r\"\\s+[a-z]$\",\" \",text)    \n",
    "    text = re.sub(r\"\\s+\",\" \",text)    \n",
    "    \n",
    "    sent = clf.predict(tfidf.transform([text]).toarray())\n",
    "    \n",
    "    return sent[0]\n",
    "            "
   ]
  },
  {
   "cell_type": "code",
   "execution_count": 42,
   "metadata": {},
   "outputs": [],
   "source": [
    "dataset = pd.read_csv(\"sentiment-for-a-company-product-by-same-customer.csv\")"
   ]
  },
  {
   "cell_type": "code",
   "execution_count": 43,
   "metadata": {},
   "outputs": [
    {
     "data": {
      "text/plain": [
       "array([20422322, 40835037])"
      ]
     },
     "execution_count": 43,
     "metadata": {},
     "output_type": "execute_result"
    }
   ],
   "source": [
    "# For Testing Purpose\n",
    "customers = dataset.groupby(\"customer_id\")\n",
    "customer_list = dataset[\"customer_id\"].unique()\n",
    "customer_list"
   ]
  },
  {
   "cell_type": "code",
   "execution_count": 44,
   "metadata": {},
   "outputs": [],
   "source": [
    "# users which are posting either all positive or negative reviews on different products of same brand\n",
    "\n",
    "blocked_users = []\n",
    "size = len(customer_list.tolist())\n",
    "index = 0\n",
    "for i in range(size):\n",
    "    brand_df = customers.get_group(customer_list[i])\n",
    "    \n",
    "    brands = brand_df.groupby(\"product_parent\")\n",
    "    brands_list = brand_df[\"product_parent\"].unique()\n",
    "    \n",
    "    no_of_brands = len(brands_list.tolist())\n",
    "    for j in range(no_of_brands):\n",
    "        \n",
    "        product_df = brands.get_group(brands_list[j])\n",
    "        no_of_products = len(product_df[\"product_id\"])\n",
    "        \n",
    "        sentiment = getSentiment(product_df[\"review_body\"][index])\n",
    "                \n",
    "        isSameSentiment = True\n",
    "        if no_of_products==2:\n",
    "            break\n",
    "        for k in range(no_of_products):\n",
    "            text = str(product_df[\"review_body\"][index+k])\n",
    "            if getSentiment(text)!=sentiment :\n",
    "                isSameSentiment = False\n",
    "                break;\n",
    "        if(isSameSentiment):\n",
    "            blocked_users.append(customer_list[i])\n",
    "            break\n",
    "    if(isSameSentiment):\n",
    "        break;\n",
    "    index += k"
   ]
  },
  {
   "cell_type": "code",
   "execution_count": 45,
   "metadata": {},
   "outputs": [
    {
     "data": {
      "text/plain": [
       "[20422322]"
      ]
     },
     "execution_count": 45,
     "metadata": {},
     "output_type": "execute_result"
    }
   ],
   "source": [
    "blocked_users"
   ]
  },
  {
   "cell_type": "code",
   "execution_count": 46,
   "metadata": {},
   "outputs": [],
   "source": [
    "dataset.set_index(\"customer_id\",inplace=True)"
   ]
  },
  {
   "cell_type": "code",
   "execution_count": 47,
   "metadata": {},
   "outputs": [],
   "source": [
    "for customer in blocked_users:\n",
    "    dataset.drop(customer,inplace=True)"
   ]
  },
  {
   "cell_type": "code",
   "execution_count": 48,
   "metadata": {
    "collapsed": true
   },
   "outputs": [
    {
     "data": {
      "text/html": [
       "<div>\n",
       "<style scoped>\n",
       "    .dataframe tbody tr th:only-of-type {\n",
       "        vertical-align: middle;\n",
       "    }\n",
       "\n",
       "    .dataframe tbody tr th {\n",
       "        vertical-align: top;\n",
       "    }\n",
       "\n",
       "    .dataframe thead th {\n",
       "        text-align: right;\n",
       "    }\n",
       "</style>\n",
       "<table border=\"1\" class=\"dataframe\">\n",
       "  <thead>\n",
       "    <tr style=\"text-align: right;\">\n",
       "      <th></th>\n",
       "      <th>customer_id</th>\n",
       "      <th>marketplace</th>\n",
       "      <th>review_id</th>\n",
       "      <th>product_id</th>\n",
       "      <th>product_parent</th>\n",
       "      <th>product_title</th>\n",
       "      <th>product_category</th>\n",
       "      <th>star_rating</th>\n",
       "      <th>helpful_votes</th>\n",
       "      <th>total_votes</th>\n",
       "      <th>vine</th>\n",
       "      <th>verified_purchase</th>\n",
       "      <th>review_headline</th>\n",
       "      <th>review_body</th>\n",
       "      <th>review_date</th>\n",
       "      <th>IP Address</th>\n",
       "    </tr>\n",
       "  </thead>\n",
       "  <tbody>\n",
       "    <tr>\n",
       "      <th>0</th>\n",
       "      <td>40835037</td>\n",
       "      <td>US</td>\n",
       "      <td>R8MEA6IGAHO0B</td>\n",
       "      <td>B00MC4CED8</td>\n",
       "      <td>137313254</td>\n",
       "      <td>BlackVue DR600GW-PMP</td>\n",
       "      <td>Mobile_Electronics</td>\n",
       "      <td>5</td>\n",
       "      <td>0</td>\n",
       "      <td>0</td>\n",
       "      <td>N</td>\n",
       "      <td>Y</td>\n",
       "      <td>Very Happy!</td>\n",
       "      <td>As advertised. Something works perfectly, I'm ...</td>\n",
       "      <td>2015-08-31</td>\n",
       "      <td>207.156.210.106</td>\n",
       "    </tr>\n",
       "    <tr>\n",
       "      <th>1</th>\n",
       "      <td>40835037</td>\n",
       "      <td>US</td>\n",
       "      <td>R31LOQ8JGLPRLK</td>\n",
       "      <td>B00OQMFG1Q</td>\n",
       "      <td>137313254</td>\n",
       "      <td>GENSSI GSM / GPS Two Way Smart Phone Car Alarm...</td>\n",
       "      <td>Mobile_Electronics</td>\n",
       "      <td>5</td>\n",
       "      <td>0</td>\n",
       "      <td>1</td>\n",
       "      <td>N</td>\n",
       "      <td>Y</td>\n",
       "      <td>five star</td>\n",
       "      <td>it's great</td>\n",
       "      <td>2015-08-31</td>\n",
       "      <td>193.93.167.87</td>\n",
       "    </tr>\n",
       "    <tr>\n",
       "      <th>2</th>\n",
       "      <td>40835037</td>\n",
       "      <td>US</td>\n",
       "      <td>R2Y0MM9YE6OP3P</td>\n",
       "      <td>B00QERR5CY</td>\n",
       "      <td>137313254</td>\n",
       "      <td>iXCC Multi pack Lightning cable</td>\n",
       "      <td>Mobile_Electronics</td>\n",
       "      <td>5</td>\n",
       "      <td>0</td>\n",
       "      <td>0</td>\n",
       "      <td>N</td>\n",
       "      <td>Y</td>\n",
       "      <td>great cables</td>\n",
       "      <td>These work great and fit my life proof case fo...</td>\n",
       "      <td>2015-08-31</td>\n",
       "      <td>218.58.147.115</td>\n",
       "    </tr>\n",
       "    <tr>\n",
       "      <th>3</th>\n",
       "      <td>40835037</td>\n",
       "      <td>US</td>\n",
       "      <td>RRB9C05HDOD4O</td>\n",
       "      <td>B00QUFTPV4</td>\n",
       "      <td>137313254</td>\n",
       "      <td>abcGoodefgÂ® FBI Covert Acoustic Tube Earpiece...</td>\n",
       "      <td>Mobile_Electronics</td>\n",
       "      <td>4</td>\n",
       "      <td>0</td>\n",
       "      <td>0</td>\n",
       "      <td>N</td>\n",
       "      <td>Y</td>\n",
       "      <td>Work very well but couldn't get used to not he...</td>\n",
       "      <td>Work very well but couldn't get used to not he...</td>\n",
       "      <td>2015-08-31</td>\n",
       "      <td>218.86.71.213</td>\n",
       "    </tr>\n",
       "  </tbody>\n",
       "</table>\n",
       "</div>"
      ],
      "text/plain": [
       "   customer_id marketplace       review_id  product_id  product_parent  \\\n",
       "0     40835037          US   R8MEA6IGAHO0B  B00MC4CED8       137313254   \n",
       "1     40835037          US  R31LOQ8JGLPRLK  B00OQMFG1Q       137313254   \n",
       "2     40835037          US  R2Y0MM9YE6OP3P  B00QERR5CY       137313254   \n",
       "3     40835037          US   RRB9C05HDOD4O  B00QUFTPV4       137313254   \n",
       "\n",
       "                                       product_title    product_category  \\\n",
       "0                               BlackVue DR600GW-PMP  Mobile_Electronics   \n",
       "1  GENSSI GSM / GPS Two Way Smart Phone Car Alarm...  Mobile_Electronics   \n",
       "2                    iXCC Multi pack Lightning cable  Mobile_Electronics   \n",
       "3  abcGoodefgÂ® FBI Covert Acoustic Tube Earpiece...  Mobile_Electronics   \n",
       "\n",
       "   star_rating  helpful_votes  total_votes vine verified_purchase  \\\n",
       "0            5              0            0    N                 Y   \n",
       "1            5              0            1    N                 Y   \n",
       "2            5              0            0    N                 Y   \n",
       "3            4              0            0    N                 Y   \n",
       "\n",
       "                                     review_headline  \\\n",
       "0                                        Very Happy!   \n",
       "1                                          five star   \n",
       "2                                       great cables   \n",
       "3  Work very well but couldn't get used to not he...   \n",
       "\n",
       "                                         review_body review_date  \\\n",
       "0  As advertised. Something works perfectly, I'm ...  2015-08-31   \n",
       "1                                         it's great  2015-08-31   \n",
       "2  These work great and fit my life proof case fo...  2015-08-31   \n",
       "3  Work very well but couldn't get used to not he...  2015-08-31   \n",
       "\n",
       "        IP Address  \n",
       "0  207.156.210.106  \n",
       "1    193.93.167.87  \n",
       "2   218.58.147.115  \n",
       "3    218.86.71.213  "
      ]
     },
     "execution_count": 48,
     "metadata": {},
     "output_type": "execute_result"
    }
   ],
   "source": [
    "dataset.reset_index()"
   ]
  },
  {
   "cell_type": "code",
   "execution_count": 13,
   "metadata": {},
   "outputs": [],
   "source": [
    "#dataset.to_csv(\"review2.csv\")"
   ]
  },
  {
   "cell_type": "code",
   "execution_count": null,
   "metadata": {},
   "outputs": [],
   "source": []
  },
  {
   "cell_type": "code",
   "execution_count": null,
   "metadata": {},
   "outputs": [],
   "source": []
  },
  {
   "cell_type": "code",
   "execution_count": null,
   "metadata": {},
   "outputs": [],
   "source": []
  },
  {
   "cell_type": "code",
   "execution_count": null,
   "metadata": {},
   "outputs": [],
   "source": []
  }
 ],
 "metadata": {
  "kernelspec": {
   "display_name": "Python 3",
   "language": "python",
   "name": "python3"
  },
  "language_info": {
   "codemirror_mode": {
    "name": "ipython",
    "version": 3
   },
   "file_extension": ".py",
   "mimetype": "text/x-python",
   "name": "python",
   "nbconvert_exporter": "python",
   "pygments_lexer": "ipython3",
   "version": "3.6.5"
  }
 },
 "nbformat": 4,
 "nbformat_minor": 2
}
