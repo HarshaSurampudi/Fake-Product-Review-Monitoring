{
 "cells": [
  {
   "cell_type": "code",
   "execution_count": 43,
   "metadata": {},
   "outputs": [],
   "source": [
    "import pandas as pd\n",
    "\n",
    "import random\n",
    "import re\n",
    "import pickle"
   ]
  },
  {
   "cell_type": "code",
   "execution_count": 2,
   "metadata": {},
   "outputs": [
    {
     "name": "stderr",
     "output_type": "stream",
     "text": [
      "/home/anubhav/anaconda3/lib/python3.6/site-packages/IPython/core/interactiveshell.py:2785: DtypeWarning: Columns (7) have mixed types. Specify dtype option on import or set low_memory=False.\n",
      "  interactivity=interactivity, compiler=compiler, result=result)\n"
     ]
    },
    {
     "data": {
      "text/html": [
       "<div>\n",
       "<style scoped>\n",
       "    .dataframe tbody tr th:only-of-type {\n",
       "        vertical-align: middle;\n",
       "    }\n",
       "\n",
       "    .dataframe tbody tr th {\n",
       "        vertical-align: top;\n",
       "    }\n",
       "\n",
       "    .dataframe thead th {\n",
       "        text-align: right;\n",
       "    }\n",
       "</style>\n",
       "<table border=\"1\" class=\"dataframe\">\n",
       "  <thead>\n",
       "    <tr style=\"text-align: right;\">\n",
       "      <th></th>\n",
       "      <th>marketplace</th>\n",
       "      <th>customer_id</th>\n",
       "      <th>review_id</th>\n",
       "      <th>product_id</th>\n",
       "      <th>product_parent</th>\n",
       "      <th>product_title</th>\n",
       "      <th>product_category</th>\n",
       "      <th>star_rating</th>\n",
       "      <th>helpful_votes</th>\n",
       "      <th>total_votes</th>\n",
       "      <th>vine</th>\n",
       "      <th>verified_purchase</th>\n",
       "      <th>review_headline</th>\n",
       "      <th>review_body</th>\n",
       "      <th>review_date</th>\n",
       "      <th>IP Address</th>\n",
       "    </tr>\n",
       "  </thead>\n",
       "  <tbody>\n",
       "    <tr>\n",
       "      <th>0</th>\n",
       "      <td>US</td>\n",
       "      <td>20422322</td>\n",
       "      <td>R8MEA6IGAHO0B</td>\n",
       "      <td>B00MC4CED8</td>\n",
       "      <td>217304173</td>\n",
       "      <td>BlackVue DR600GW-PMP</td>\n",
       "      <td>Mobile_Electronics</td>\n",
       "      <td>5</td>\n",
       "      <td>0.0</td>\n",
       "      <td>0.0</td>\n",
       "      <td>N</td>\n",
       "      <td>Y</td>\n",
       "      <td>Very Happy!</td>\n",
       "      <td>As advertised. Everything works perfectly, I'm...</td>\n",
       "      <td>2015-08-31</td>\n",
       "      <td>207.156.210.106</td>\n",
       "    </tr>\n",
       "    <tr>\n",
       "      <th>1</th>\n",
       "      <td>US</td>\n",
       "      <td>40835037</td>\n",
       "      <td>R31LOQ8JGLPRLK</td>\n",
       "      <td>B00OQMFG1Q</td>\n",
       "      <td>137313254</td>\n",
       "      <td>GENSSI GSM / GPS Two Way Smart Phone Car Alarm...</td>\n",
       "      <td>Mobile_Electronics</td>\n",
       "      <td>5</td>\n",
       "      <td>0.0</td>\n",
       "      <td>1.0</td>\n",
       "      <td>N</td>\n",
       "      <td>Y</td>\n",
       "      <td>five star</td>\n",
       "      <td>it's great</td>\n",
       "      <td>2015-08-31</td>\n",
       "      <td>193.93.167.87</td>\n",
       "    </tr>\n",
       "    <tr>\n",
       "      <th>2</th>\n",
       "      <td>US</td>\n",
       "      <td>51469641</td>\n",
       "      <td>R2Y0MM9YE6OP3P</td>\n",
       "      <td>B00QERR5CY</td>\n",
       "      <td>82850235</td>\n",
       "      <td>iXCC Multi pack Lightning cable</td>\n",
       "      <td>Mobile_Electronics</td>\n",
       "      <td>5</td>\n",
       "      <td>0.0</td>\n",
       "      <td>0.0</td>\n",
       "      <td>N</td>\n",
       "      <td>Y</td>\n",
       "      <td>great cables</td>\n",
       "      <td>These work great and fit my life proof case fo...</td>\n",
       "      <td>2015-08-31</td>\n",
       "      <td>218.58.147.115</td>\n",
       "    </tr>\n",
       "  </tbody>\n",
       "</table>\n",
       "</div>"
      ],
      "text/plain": [
       "  marketplace  customer_id       review_id  product_id  product_parent  \\\n",
       "0          US     20422322   R8MEA6IGAHO0B  B00MC4CED8       217304173   \n",
       "1          US     40835037  R31LOQ8JGLPRLK  B00OQMFG1Q       137313254   \n",
       "2          US     51469641  R2Y0MM9YE6OP3P  B00QERR5CY        82850235   \n",
       "\n",
       "                                       product_title    product_category  \\\n",
       "0                               BlackVue DR600GW-PMP  Mobile_Electronics   \n",
       "1  GENSSI GSM / GPS Two Way Smart Phone Car Alarm...  Mobile_Electronics   \n",
       "2                    iXCC Multi pack Lightning cable  Mobile_Electronics   \n",
       "\n",
       "  star_rating  helpful_votes  total_votes vine verified_purchase  \\\n",
       "0           5            0.0          0.0    N                 Y   \n",
       "1           5            0.0          1.0    N                 Y   \n",
       "2           5            0.0          0.0    N                 Y   \n",
       "\n",
       "  review_headline                                        review_body  \\\n",
       "0     Very Happy!  As advertised. Everything works perfectly, I'm...   \n",
       "1       five star                                         it's great   \n",
       "2    great cables  These work great and fit my life proof case fo...   \n",
       "\n",
       "  review_date       IP Address  \n",
       "0  2015-08-31  207.156.210.106  \n",
       "1  2015-08-31    193.93.167.87  \n",
       "2  2015-08-31   218.58.147.115  "
      ]
     },
     "execution_count": 2,
     "metadata": {},
     "output_type": "execute_result"
    }
   ],
   "source": [
    "dataset = pd.read_csv(\"reviews.csv\")\n",
    "dataset.head(3)"
   ]
  },
  {
   "cell_type": "code",
   "execution_count": 3,
   "metadata": {},
   "outputs": [],
   "source": [
    "### WORKING ON TWITTER DATA FOR SENTIMENTAL ANALYSIS\n",
    "\n",
    "with open(\"Pickle Files/classifier.pickle\",\"rb\") as f:\n",
    "    clf = pickle.load(f)\n",
    "\n",
    "with open(\"Pickle Files/TfidfModel.pickle\",\"rb\") as f:\n",
    "    tfidf = pickle.load(f)\n",
    "\n",
    "def getSentiment(text):\n",
    "\n",
    "    # PREPROCESSING THE DATASET\n",
    "    text = str(text)\n",
    "    text = text.lower()\n",
    "    text = re.sub(r\"that's\",\"that is\",text)\n",
    "    text = re.sub(r\"there's\",\"there is\",text)\n",
    "    text = re.sub(r\"what's\",\"what is\",text)\n",
    "    text = re.sub(r\"where's\",\"where is\",text)\n",
    "    text = re.sub(r\"it's\",\"it is\",text)\n",
    "    text = re.sub(r\"who's\",\"who is\",text)\n",
    "    text = re.sub(r\"i'm\",\"i am\",text)\n",
    "    text = re.sub(r\"she's\",\"she is\",text)\n",
    "    text = re.sub(r\"he's\",\"he is\",text)\n",
    "    text = re.sub(r\"they're\",\"they are\",text)\n",
    "    text = re.sub(r\"who're\",\"who are\",text)\n",
    "    text = re.sub(r\"ain't\",\"am not\",text)\n",
    "    text = re.sub(r\"wouldn't\",\"would not\",text)\n",
    "    text = re.sub(r\"shouldn't\",\"should not\",text)\n",
    "    text = re.sub(r\"can't\",\"can not\",text)\n",
    "    text = re.sub(r\"couldn't\",\"could not\",text)\n",
    "    text = re.sub(r\"won't\",\"will not\",text)\n",
    "    \n",
    "    text = re.sub(r\"\\W\",\" \",text)\n",
    "    text = re.sub(r\"\\d\",\" \",text)\n",
    "    text = re.sub(r\"\\s+[a-z]\\s+\",\" \",text)\n",
    "    text = re.sub(r\"^[a-z]\\s+\",\" \",text)    \n",
    "    text = re.sub(r\"\\s+[a-z]$\",\" \",text)    \n",
    "    text = re.sub(r\"\\s+\",\" \",text)    \n",
    "    \n",
    "    sent = clf.predict(tfidf.transform([text]).toarray())\n",
    "    \n",
    "    return sent[0]\n",
    "            "
   ]
  },
  {
   "cell_type": "markdown",
   "metadata": {},
   "source": [
    "## 1. different sentiment in review headline and review body"
   ]
  },
  {
   "cell_type": "code",
   "execution_count": 34,
   "metadata": {},
   "outputs": [],
   "source": [
    "blocked_reviews = []\n",
    "for i in range(len(dataset)):\n",
    "        if( getSentiment( dataset[\"review_headline\"][i] ) != getSentiment( dataset[\"review_body\"][i] ) ):\n",
    "            blocked_reviews.append(dataset[\"review_id\"][i])"
   ]
  },
  {
   "cell_type": "code",
   "execution_count": null,
   "metadata": {},
   "outputs": [],
   "source": []
  },
  {
   "cell_type": "markdown",
   "metadata": {},
   "source": [
    "## 2. Users which are posting either all positive or negative reviews on different products of same brand\n"
   ]
  },
  {
   "cell_type": "code",
   "execution_count": 44,
   "metadata": {},
   "outputs": [],
   "source": [
    "dataset = pd.read_csv(\"sentiment-for-a-company-product-by-same-customer.csv\")"
   ]
  },
  {
   "cell_type": "code",
   "execution_count": 46,
   "metadata": {},
   "outputs": [],
   "source": [
    "# users which are posting either all positive or negative reviews on different products of same brand\n",
    "\n",
    "customers = dataset.groupby(\"customer_id\")\n",
    "customer_list = dataset[\"customer_id\"].unique()\n",
    "\n",
    "blocked_users = []\n",
    "size = len(customer_list.tolist())\n",
    "index = 0\n",
    "for i in range(size):\n",
    "    brand_df = customers.get_group(customer_list[i])    \n",
    "    brands = brand_df.groupby(\"product_parent\")\n",
    "    brands_list = brand_df[\"product_parent\"].unique()\n",
    "    \n",
    "    no_of_brands = len(brands_list.tolist())\n",
    "    for j in range(no_of_brands):\n",
    "        \n",
    "        product_df = brands.get_group(brands_list[j])\n",
    "        no_of_products = len(product_df[\"product_id\"])\n",
    "        \n",
    "        sentiment = getSentiment(product_df[\"review_body\"][index])\n",
    "                \n",
    "        isSameSentiment = True\n",
    "        if no_of_products==2:\n",
    "            break\n",
    "        for k in range(no_of_products):\n",
    "            text = str(product_df[\"review_body\"][index+k])\n",
    "            if getSentiment(text)!=sentiment :\n",
    "                isSameSentiment = False\n",
    "                break;\n",
    "        if(isSameSentiment):\n",
    "            blocked_users.append(customer_list[i])\n",
    "            break\n",
    "    if(isSameSentiment):\n",
    "        break;\n",
    "    index += k"
   ]
  },
  {
   "cell_type": "code",
   "execution_count": 47,
   "metadata": {},
   "outputs": [
    {
     "data": {
      "text/plain": [
       "[20422322]"
      ]
     },
     "execution_count": 47,
     "metadata": {},
     "output_type": "execute_result"
    }
   ],
   "source": [
    "blocked_users"
   ]
  },
  {
   "cell_type": "code",
   "execution_count": null,
   "metadata": {},
   "outputs": [],
   "source": [
    "'''\n",
    "dataset.set_index(\"customer_id\",inplace=True)\n",
    "for customer in blocked_users:\n",
    "    dataset.drop(customer,inplace=True)\n",
    "dataset.reset_index()\n",
    "'''"
   ]
  },
  {
   "cell_type": "markdown",
   "metadata": {},
   "source": [
    "## 3.Reviews from same IP either all positive or negative reviews on different products of same brand"
   ]
  },
  {
   "cell_type": "code",
   "execution_count": 48,
   "metadata": {},
   "outputs": [],
   "source": [
    "dataset = pd.read_csv(\"sentiment-for-a-company-product-by-same-IP.csv\")"
   ]
  },
  {
   "cell_type": "code",
   "execution_count": 50,
   "metadata": {},
   "outputs": [],
   "source": [
    "ip = dataset.groupby(\"IP Address\")\n",
    "ip_list = dataset[\"IP Address\"].unique()\n",
    "\n",
    "# Reviews from same IP either all positive or negative reviews on different products of same brand\n",
    "\n",
    "blocked_users = []\n",
    "size = len(ip_list.tolist())\n",
    "index = 0\n",
    "for i in range(size):\n",
    "    brand_df = ip.get_group(ip_list[i])\n",
    "    \n",
    "    brands = brand_df.groupby(\"product_parent\")\n",
    "    brands_list = brand_df[\"product_parent\"].unique()\n",
    "    \n",
    "    no_of_brands = len(brands_list.tolist())\n",
    "    for j in range(no_of_brands):\n",
    "        \n",
    "        product_df = brands.get_group(brands_list[j])\n",
    "        no_of_products = len(product_df[\"product_id\"])\n",
    "        \n",
    "        sentiment = getSentiment(product_df[\"review_body\"][index])\n",
    "                \n",
    "        isSameSentiment = True\n",
    "        if no_of_products<=2:\n",
    "            break\n",
    "        for k in range(no_of_products):\n",
    "            text = str(product_df[\"review_body\"][index+k])\n",
    "            if getSentiment(text)!=sentiment :\n",
    "                isSameSentiment = False\n",
    "                break;\n",
    "        if(isSameSentiment):\n",
    "            blocked_users.append(ip_list[i])\n",
    "            break\n",
    "    if(isSameSentiment):\n",
    "        break;\n",
    "    index +=k"
   ]
  },
  {
   "cell_type": "code",
   "execution_count": 51,
   "metadata": {},
   "outputs": [
    {
     "data": {
      "text/plain": [
       "['193.93.167.87']"
      ]
     },
     "execution_count": 51,
     "metadata": {},
     "output_type": "execute_result"
    }
   ],
   "source": [
    "blocked_users"
   ]
  },
  {
   "cell_type": "code",
   "execution_count": 53,
   "metadata": {},
   "outputs": [
    {
     "data": {
      "text/plain": [
       "'\\ndataset.set_index(\"IP Address\",inplace=True)\\nfor ip in blocked_users:\\n    dataset.drop(ip,inplace=True)\\ndataset.reset_index()\\n'"
      ]
     },
     "execution_count": 53,
     "metadata": {},
     "output_type": "execute_result"
    }
   ],
   "source": [
    "'''\n",
    "dataset.set_index(\"IP Address\",inplace=True)\n",
    "for ip in blocked_users:\n",
    "    dataset.drop(ip,inplace=True)\n",
    "dataset.reset_index()\n",
    "'''"
   ]
  },
  {
   "cell_type": "markdown",
   "metadata": {},
   "source": [
    "## 4. User posting (>3) reviews on the same day with all the reviews are either positive or negative."
   ]
  },
  {
   "cell_type": "code",
   "execution_count": 5,
   "metadata": {},
   "outputs": [],
   "source": [
    "dataset.sort_values(\"customer_id\",inplace=True)"
   ]
  },
  {
   "cell_type": "code",
   "execution_count": 8,
   "metadata": {},
   "outputs": [
    {
     "data": {
      "text/html": [
       "<div>\n",
       "<style scoped>\n",
       "    .dataframe tbody tr th:only-of-type {\n",
       "        vertical-align: middle;\n",
       "    }\n",
       "\n",
       "    .dataframe tbody tr th {\n",
       "        vertical-align: top;\n",
       "    }\n",
       "\n",
       "    .dataframe thead th {\n",
       "        text-align: right;\n",
       "    }\n",
       "</style>\n",
       "<table border=\"1\" class=\"dataframe\">\n",
       "  <thead>\n",
       "    <tr style=\"text-align: right;\">\n",
       "      <th></th>\n",
       "      <th>marketplace</th>\n",
       "      <th>customer_id</th>\n",
       "      <th>review_id</th>\n",
       "      <th>product_id</th>\n",
       "      <th>product_parent</th>\n",
       "      <th>product_title</th>\n",
       "      <th>product_category</th>\n",
       "      <th>star_rating</th>\n",
       "      <th>helpful_votes</th>\n",
       "      <th>total_votes</th>\n",
       "      <th>vine</th>\n",
       "      <th>verified_purchase</th>\n",
       "      <th>review_headline</th>\n",
       "      <th>review_body</th>\n",
       "      <th>review_date</th>\n",
       "      <th>IP Address</th>\n",
       "    </tr>\n",
       "  </thead>\n",
       "  <tbody>\n",
       "    <tr>\n",
       "      <th>24496</th>\n",
       "      <td>US</td>\n",
       "      <td>10071</td>\n",
       "      <td>R1XALU24Y932WC</td>\n",
       "      <td>B0048DLA90</td>\n",
       "      <td>864204912</td>\n",
       "      <td>NEW Click Wheel Flex Cable For Apple iPod Nano...</td>\n",
       "      <td>Mobile_Electronics</td>\n",
       "      <td>5</td>\n",
       "      <td>0.0</td>\n",
       "      <td>0.0</td>\n",
       "      <td>N</td>\n",
       "      <td>Y</td>\n",
       "      <td>Five Stars</td>\n",
       "      <td>Just what I needed. Thanks.</td>\n",
       "      <td>2014-07-31</td>\n",
       "      <td>217.163.92.95</td>\n",
       "    </tr>\n",
       "  </tbody>\n",
       "</table>\n",
       "</div>"
      ],
      "text/plain": [
       "      marketplace  customer_id       review_id  product_id  product_parent  \\\n",
       "24496          US        10071  R1XALU24Y932WC  B0048DLA90       864204912   \n",
       "\n",
       "                                           product_title    product_category  \\\n",
       "24496  NEW Click Wheel Flex Cable For Apple iPod Nano...  Mobile_Electronics   \n",
       "\n",
       "      star_rating  helpful_votes  total_votes vine verified_purchase  \\\n",
       "24496           5            0.0          0.0    N                 Y   \n",
       "\n",
       "      review_headline                  review_body review_date     IP Address  \n",
       "24496      Five Stars  Just what I needed. Thanks.  2014-07-31  217.163.92.95  "
      ]
     },
     "execution_count": 8,
     "metadata": {},
     "output_type": "execute_result"
    }
   ],
   "source": [
    "dataset.head(1)"
   ]
  },
  {
   "cell_type": "code",
   "execution_count": 4,
   "metadata": {},
   "outputs": [],
   "source": [
    "dataset = pd.read_csv(\"same-day-multiple-reviews with same sentiment.csv\")"
   ]
  },
  {
   "cell_type": "code",
   "execution_count": 29,
   "metadata": {},
   "outputs": [
    {
     "name": "stdout",
     "output_type": "stream",
     "text": [
      "['2015-08-31']\n",
      "3 ['R8MEA6IGAHO0B', 'R31LOQ8JGLPRLK', 'R2Y0MM9YE6OP3P']\n",
      "1 ['RRB9C05HDOD4O']\n",
      "['2015-09-31']\n",
      "4 ['R26I2RI1GFV8QG', 'RY8DDL22YG4R5', 'R2AT2426ZHFUHH', 'R3RRXU2R23NMQ9']\n",
      "0 []\n"
     ]
    }
   ],
   "source": [
    "customer_group = dataset.groupby(\"customer_id\")\n",
    "customer_group_list = dataset[\"customer_id\"].unique().tolist()\n",
    "index=0\n",
    "\n",
    "for i in range(len(customer_group_list)):\n",
    "    customer_reviews = customer_group.get_group( customer_group_list[i] )\n",
    "    \n",
    "    dates_list = customer_reviews[\"review_date\"].unique().tolist()\n",
    "    print(dates_list)\n",
    "    reviews_by_date = customer_reviews.groupby(\"review_date\");\n",
    "    \n",
    "    for j in range(len(dates_list)):\n",
    "        reviews_by_date_for_pos = []\n",
    "        reviews_by_date_for_neg = []\n",
    "\n",
    "        df = reviews_by_date.get_group(dates_list[j])\n",
    "        \n",
    "        for k in range(len(df)):\n",
    "            text = df[\"review_body\"][index+k]\n",
    "            if(getSentiment(text) == 0):\n",
    "                reviews_by_date_for_neg.append(df[\"review_id\"][index+k])\n",
    "            else:\n",
    "                reviews_by_date_for_pos.append(df[\"review_id\"][index+k])\n",
    "        print(len(reviews_by_date_for_pos) , reviews_by_date_for_pos)\n",
    "        print(len(reviews_by_date_for_neg) , reviews_by_date_for_neg)\n",
    "        # count, review id of reviews with same sentiment\n",
    "        index += k+1\n",
    "        "
   ]
  },
  {
   "cell_type": "code",
   "execution_count": 31,
   "metadata": {},
   "outputs": [
    {
     "data": {
      "text/plain": [
       "dict_keys(['2015-09-31'])"
      ]
     },
     "execution_count": 31,
     "metadata": {},
     "output_type": "execute_result"
    }
   ],
   "source": []
  },
  {
   "cell_type": "markdown",
   "metadata": {},
   "source": [
    "## 5. Reviews(>3) from same IP on the same day with all the reviews are either positive or negative."
   ]
  },
  {
   "cell_type": "code",
   "execution_count": 41,
   "metadata": {},
   "outputs": [],
   "source": [
    "dataset = pd.read_csv(\"same-day-multiple-reviews with same sentiment from same IP.csv\")"
   ]
  },
  {
   "cell_type": "code",
   "execution_count": 42,
   "metadata": {},
   "outputs": [
    {
     "name": "stdout",
     "output_type": "stream",
     "text": [
      "['2015-08-31']\n",
      "3 ['R8MEA6IGAHO0B', 'R31LOQ8JGLPRLK', 'R2Y0MM9YE6OP3P']\n",
      "1 ['RRB9C05HDOD4O']\n",
      "['2015-09-31']\n",
      "4 ['R26I2RI1GFV8QG', 'RY8DDL22YG4R5', 'R2AT2426ZHFUHH', 'R3RRXU2R23NMQ9']\n",
      "0 []\n"
     ]
    }
   ],
   "source": [
    "ip_group = dataset.groupby(\"IP Address\")\n",
    "ip_list = dataset[\"IP Address\"].unique().tolist()\n",
    "index=0\n",
    "\n",
    "for i in range(len(ip_list)):\n",
    "    reviews = ip_group.get_group( ip_list[i] )\n",
    "    \n",
    "    dates_list = reviews[\"review_date\"].unique().tolist()\n",
    "    print(dates_list)\n",
    "    reviews_by_date = reviews.groupby(\"review_date\");\n",
    "    \n",
    "    for j in range(len(dates_list)):\n",
    "        reviews_by_date_for_pos = []\n",
    "        reviews_by_date_for_neg = []\n",
    "\n",
    "        df = reviews_by_date.get_group(dates_list[j])\n",
    "        \n",
    "        for k in range(len(df)):\n",
    "            text = df[\"review_body\"][index+k]\n",
    "            if(getSentiment(text) == 0):\n",
    "                reviews_by_date_for_neg.append(df[\"review_id\"][index+k])\n",
    "            else:\n",
    "                reviews_by_date_for_pos.append(df[\"review_id\"][index+k])\n",
    "        print(len(reviews_by_date_for_pos) , reviews_by_date_for_pos)\n",
    "        print(len(reviews_by_date_for_neg) , reviews_by_date_for_neg)\n",
    "        # count, review id of reviews with same sentiment\n",
    "        index += k+1\n",
    "        "
   ]
  },
  {
   "cell_type": "code",
   "execution_count": null,
   "metadata": {},
   "outputs": [],
   "source": []
  }
 ],
 "metadata": {
  "kernelspec": {
   "display_name": "Python 3",
   "language": "python",
   "name": "python3"
  }
 },
 "nbformat": 4,
 "nbformat_minor": 2
}
